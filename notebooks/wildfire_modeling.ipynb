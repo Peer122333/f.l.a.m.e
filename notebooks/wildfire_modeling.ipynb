{
 "cells": [
  {
   "cell_type": "markdown",
   "metadata": {},
   "source": [
    "## Wildfire Modelling"
   ]
  },
  {
   "cell_type": "markdown",
   "metadata": {},
   "source": [
    "#### Hilfsfunktionen"
   ]
  },
  {
   "cell_type": "code",
   "execution_count": 5,
   "metadata": {},
   "outputs": [],
   "source": [
    "from pathlib import Path\n",
    "\n",
    "def find_project_root(start_path: Path, root_name: str = \"f.l.a.m.e\") -> Path:\n",
    "    \"\"\"\n",
    "    Suche den Projekt-Root-Ordner (z. B. 'f.l.a.m.e'), indem du die Hierarchie nach oben gehst.\n",
    "    :param start_path: Pfad, von dem aus die Suche beginnt\n",
    "    :param root_name: Name des Root-Ordners\n",
    "    :return: Der Pfad zum Projekt-Root\n",
    "    \"\"\"\n",
    "    current_path = start_path.resolve()\n",
    "    while current_path.name != root_name:\n",
    "        if current_path.parent == current_path:  # Root des Dateisystems erreicht\n",
    "            raise FileNotFoundError(f\"Projekt-Root '{root_name}' wurde nicht gefunden.\")\n",
    "        current_path = current_path.parent\n",
    "    return current_path\n"
   ]
  },
  {
   "cell_type": "markdown",
   "metadata": {},
   "source": [
    "### Einführung und Setup"
   ]
  },
  {
   "cell_type": "code",
   "execution_count": 11,
   "metadata": {},
   "outputs": [
    {
     "name": "stderr",
     "output_type": "stream",
     "text": [
      "2025-01-07 13:23:57,647 - INFO - Projekt-Root: /Users/peer/Documents/GITLAB_1/6_wiSe24_25/f.l.a.m.e\n",
      "2025-01-07 13:23:57,648 - INFO - Datenverzeichnis: /Users/peer/Documents/GITLAB_1/6_wiSe24_25/f.l.a.m.e/data/Wildfire\n",
      "2025-01-07 13:23:57,649 - INFO - Modellverzeichnis: /Users/peer/Documents/GITLAB_1/6_wiSe24_25/f.l.a.m.e/saved_model\n",
      "2025-01-07 13:23:57,649 - INFO - Log-Verzeichnis: /Users/peer/Documents/GITLAB_1/6_wiSe24_25/f.l.a.m.e/results/logs\n"
     ]
    }
   ],
   "source": [
    "# Notebook für Waldbrand-Modellierung\n",
    "# Importiere die notwendigen Bibliotheken\n",
    "import numpy as np\n",
    "import tensorflow as tf\n",
    "from tensorflow.keras import Sequential\n",
    "from tensorflow.keras.layers import Conv2D, MaxPooling2D, Flatten, Dense, Dropout\n",
    "from tensorflow.keras.utils import image_dataset_from_directory\n",
    "import matplotlib.pyplot as plt\n",
    "\n",
    "# Bibliotheken für Dateioperationen\n",
    "from pathlib import Path\n",
    "import logging\n",
    "import sys\n",
    "import os\n",
    "\n",
    "# Projekt-Root dynamisch ermitteln\n",
    "PROJECT_ROOT = Path.cwd().parent  # Falls Notebook in einem Unterverzeichnis liegt\n",
    "if str(PROJECT_ROOT) not in sys.path:\n",
    "    sys.path.append(str(PROJECT_ROOT))  # Projekt-Root zu sys.path hinzufügen\n",
    "\n",
    "# Wichtige Verzeichnisse definieren\n",
    "DATA_DIR = PROJECT_ROOT / \"data/Wildfire\"\n",
    "SAVED_MODEL_DIR = PROJECT_ROOT / \"saved_model\"\n",
    "LOG_DIR = PROJECT_ROOT / \"results\" / \"logs\"\n",
    "LOG_DIR.mkdir(parents=True, exist_ok=True)\n",
    "LOG_FILE = LOG_DIR / \"project.log\"\n",
    "\n",
    "# Logger erstellen\n",
    "log = logging.getLogger(__name__)  # Logger für dieses Modul\n",
    "log.setLevel(logging.INFO)  # Log-Level festlegen\n",
    "\n",
    "# FileHandler erstellen\n",
    "file_handler = logging.FileHandler(LOG_FILE)\n",
    "file_handler.setLevel(logging.INFO)\n",
    "\n",
    "# StreamHandler erstellen (für Konsole)\n",
    "stream_handler = logging.StreamHandler()\n",
    "stream_handler.setLevel(logging.INFO)\n",
    "\n",
    "# Format festlegen\n",
    "formatter = logging.Formatter(\n",
    "    \"%(asctime)s - %(name)s - [Line: %(lineno)d] - %(module)s - %(funcName)s - %(levelname)s - %(message)s\"\n",
    ")\n",
    "file_handler.setFormatter(formatter)\n",
    "stream_handler.setFormatter(formatter)\n",
    "\n",
    "# Handler zum Logger hinzufügen (falls noch nicht vorhanden)\n",
    "if not log.handlers:  # Verhindert doppelte Logs\n",
    "    log.addHandler(file_handler)\n",
    "    log.addHandler(stream_handler)\n",
    "\n",
    "# Verzeichnisse prüfen und ausgeben\n",
    "log.info(f\"Projekt-Root: {PROJECT_ROOT}\")\n",
    "log.info(f\"Datenverzeichnis: {DATA_DIR}\")\n",
    "log.info(f\"Modellverzeichnis: {SAVED_MODEL_DIR}\")\n",
    "log.info(f\"Log-Verzeichnis: {LOG_DIR}\")\n"
   ]
  },
  {
   "cell_type": "code",
   "execution_count": null,
   "metadata": {},
   "outputs": [],
   "source": []
  }
 ],
 "metadata": {
  "kernelspec": {
   "display_name": ".venv",
   "language": "python",
   "name": "python3"
  },
  "language_info": {
   "codemirror_mode": {
    "name": "ipython",
    "version": 3
   },
   "file_extension": ".py",
   "mimetype": "text/x-python",
   "name": "python",
   "nbconvert_exporter": "python",
   "pygments_lexer": "ipython3",
   "version": "3.12.7"
  }
 },
 "nbformat": 4,
 "nbformat_minor": 2
}
